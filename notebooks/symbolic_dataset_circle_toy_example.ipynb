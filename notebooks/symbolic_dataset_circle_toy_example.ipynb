{
 "cells": [
  {
   "cell_type": "code",
   "execution_count": 1,
   "metadata": {},
   "outputs": [],
   "source": [
    "import warnings\n",
    "import os\n",
    "import sys\n",
    "# try to import peal and if not installed, add the parent directory to the path\n",
    "try:\n",
    "    import peal\n",
    "\n",
    "except ImportError:\n",
    "    # if peal not installed, but project downloaded locally\n",
    "    module_path = os.path.abspath(os.path.join('..'))\n",
    "    if module_path not in sys.path:\n",
    "        sys.path.append(module_path)\n",
    "\n",
    "# import basic libraries needed for sure and set the device depending on whether cuda is available or not\n",
    "import torch\n",
    "from peal.utils import request\n",
    "device = 'cuda' if torch.cuda.is_available() else 'cpu'\n",
    "\n",
    "warnings.filterwarnings('ignore')\n",
    "\n",
    "# set autoreload for more convinient development\n",
    "%load_ext autoreload\n",
    "%autoreload 2\n",
    "\n",
    "# check and set that the right gpu is used\n",
    "if device == 'cuda':\n",
    "    os.environ[\"CUDA_DEVICE_ORDER\"] = \"PCI_BUS_ID\"\n",
    "    !nvidia-smi\n",
    "    os.environ[\"CUDA_VISIBLE_DEVICES\"] = \"0\"\n",
    "    print('Currently used device: ' + str(os.environ[\"CUDA_VISIBLE_DEVICES\"]))\n",
    "    os.environ[\"CUDA_VISIBLE_DEVICES\"] = request(\n",
    "        'cuda_visible_devices', default=\"0\")\n",
    "    torch.cuda.set_device(int(os.environ[\"CUDA_VISIBLE_DEVICES\"]))\n",
    "    import math\n",
    "    import nvidia_smi\n",
    "    nvidia_smi.nvmlInit()\n",
    "    handle = nvidia_smi.nvmlDeviceGetHandleByIndex(0)\n",
    "    info = nvidia_smi.nvmlDeviceGetMemoryInfo(handle)\n",
    "    gigabyte_vram = info.total / math.pow(10, 9)\n",
    "    print(\"Total memory:\", gigabyte_vram)\n",
    "\n",
    "else:\n",
    "    gigabyte_vram = None\n"
   ]
  },
  {
   "cell_type": "code",
   "execution_count": 2,
   "metadata": {},
   "outputs": [
    {
     "name": "stdout",
     "output_type": "stream",
     "text": [
      "pygame 2.1.2 (SDL 2.0.16, Python 3.9.16)\n",
      "Hello from the pygame community. https://www.pygame.org/contribute.html\n"
     ]
    },
    {
     "name": "stdin",
     "output_type": "stream",
     "text": [
      "Do you want to change value of confounder_probability? [y/n] n\n"
     ]
    }
   ],
   "source": [
    "# create the datasets\n",
    "from peal.data.dataset_factory import get_datasets\n",
    "from peal.data.dataset_generators import CircleDatasetGenerator\n",
    "from peal.utils import load_yaml_config\n",
    "import copy\n",
    "\n",
    "unpoisened_dataset_config = load_yaml_config('$PEAL/configs/data/symbolic_circle.yaml')\n",
    "unpoisened_dataset_config['num_samples'] = 500\n",
    "unpoisened_dataset_config['noise_scale'] = 0\n",
    "unpoisened_dataset_config[\"set_negative_to_zero\"] = False\n",
    "dg = CircleDatasetGenerator(\n",
    "    dataset_name='circle',\n",
    "    num_samples=unpoisened_dataset_config['num_samples'],\n",
    "    radius=unpoisened_dataset_config['radius'],\n",
    "    noise_scale=unpoisened_dataset_config['noise_scale'],\n",
    "    seed=unpoisened_dataset_config['seed'],\n",
    ")\n",
    "\n",
    "dg.generate_dataset()\n",
    "\n",
    "student_config = load_yaml_config('$PEAL/configs/models/symbolic_circle_classifier.yaml')\n",
    "if len(student_config['task']['x_selection']):\n",
    "    unpoisened_dataset_config['input_size'] = [len(student_config['task']['x_selection'])]\n",
    "    \n",
    "unpoisened_dataset_train, unpoisened_dataset_val, unpoisened_dataset_test = get_datasets(\n",
    "    config=unpoisened_dataset_config,\n",
    "    base_dir=dg.label_dir,\n",
    "    task_config=student_config['task'],\n",
    ")\n",
    "\n",
    "# create a copy of the dataset config that will be poisened in the next steps\n",
    "poisened_dataset_config = copy.deepcopy(unpoisened_dataset_config)\n",
    "poisened_dataset_config['num_samples'] = int(unpoisened_dataset_config['num_samples'] / 2)\n",
    "\n",
    "confounder_probability = request('confounder_probability', '100')\n",
    "poisened_dataset_config['confounder_probability'] = float(confounder_probability) / 100\n",
    "\n",
    "# create dataset based changed data config\n",
    "poisened_dataset_train, poisened_dataset_val, poisened_dataset_test = get_datasets(\n",
    "    config=poisened_dataset_config,\n",
    "    base_dir=dg.label_dir,\n",
    "    task_config=student_config['task'],\n",
    ")"
   ]
  },
  {
   "cell_type": "code",
   "execution_count": 3,
   "metadata": {},
   "outputs": [
    {
     "name": "stdin",
     "output_type": "stream",
     "text": [
      "Do you want to change value of is_train_generator? [y/n] n\n",
      "Do you want to change value of generator_path? [y/n] n\n"
     ]
    }
   ],
   "source": [
    "is_train_generator = request('is_train_generator', False)\n",
    "if is_train_generator:\n",
    "    # if you want the generator getting trained from scratch\n",
    "    from peal.generators.variational_autoencoders import VAE\n",
    "    from peal.training.trainers import ModelTrainer\n",
    "    from peal.data.dataset_wrappers import VAEDatasetWrapper\n",
    "    generator_config = load_yaml_config('$PEAL/configs/models/symbolic_circle_vae.yaml')\n",
    "    generator_config['data'] = unpoisened_dataset_train.config\n",
    "    generator_config['training']['max_epochs'] = 5\n",
    "    generator = VAE(generator_config).to(device)\n",
    "\n",
    "    dataset_train = VAEDatasetWrapper(unpoisened_dataset_train)\n",
    "    dataset_val = VAEDatasetWrapper(unpoisened_dataset_val)\n",
    "\n",
    "    generator_trainer = ModelTrainer(\n",
    "        config=generator_config,\n",
    "        model=generator,\n",
    "        datasource=(dataset_train, dataset_val),\n",
    "        model_name=request(\n",
    "            'generator_model_name',\n",
    "            'artificial_symbolic_' + confounder_probability + '_generator'\n",
    "        ),\n",
    "        gigabyte_vram=gigabyte_vram\n",
    "    )\n",
    "    generator_trainer.fit()\n",
    "\n",
    "else:\n",
    "    # if you want to use loaded generator\n",
    "    generator_path = request(\n",
    "        'generator_path',\n",
    "        'peal_runs/artificial_symbolic_' + confounder_probability + '_generator/model.cpl'\n",
    "    )\n",
    "    generator = torch.load(generator_path).to(device)\n"
   ]
  },
  {
   "cell_type": "code",
   "execution_count": 4,
   "metadata": {},
   "outputs": [
    {
     "name": "stdin",
     "output_type": "stream",
     "text": [
      "Do you want to change value of is_train_student? [y/n] n\n",
      "Do you want to change value of student_path? [y/n] n\n"
     ]
    }
   ],
   "source": [
    "is_train_student = request('is_train_student', False)\n",
    "if is_train_student:\n",
    "    # if you want to train your own initial student model\n",
    "    from peal.architectures.downstream_models import Symbolic2VectorModel\n",
    "    from peal.training.trainers import ModelTrainer\n",
    "    student_config = load_yaml_config('$PEAL/configs/models/symbolic_circle_classifier.yaml')\n",
    "    student_config['data'] = poisened_dataset_train.config\n",
    "    student_config['training']['max_epochs'] = 5 \n",
    "    # create and traing student model\n",
    "    student = Symbolic2VectorModel(student_config).to(device)\n",
    "    student_trainer = ModelTrainer(\n",
    "        config=student_config,\n",
    "        model=student,\n",
    "        datasource=(poisened_dataset_train, poisened_dataset_val),\n",
    "        model_name=request(\n",
    "            'student_model_name',\n",
    "            'artificial_symbolic_' + confounder_probability + '_classifier'\n",
    "        ),\n",
    "        gigabyte_vram=gigabyte_vram\n",
    "    )\n",
    "    student_trainer.fit()\n",
    "\n",
    "else:\n",
    "    # if you want to load your initial student model\n",
    "    student_path = request(\n",
    "        'student_path',\n",
    "        'peal_runs/artificial_symbolic_' + confounder_probability + '_classifier/model.cpl'\n",
    "    )\n",
    "    student = torch.load(student_path).to(device)\n"
   ]
  },
  {
   "cell_type": "code",
   "execution_count": 5,
   "metadata": {},
   "outputs": [
    {
     "name": "stdin",
     "output_type": "stream",
     "text": [
      "Do you want to change value of teacher_type? [y/n] n\n",
      "Do you want to change value of teacher_path? [y/n] n\n"
     ]
    }
   ],
   "source": [
    "teacher_type = request('teacher_type', 'load') # changes this to load\n",
    "if teacher_type == 'train':\n",
    "    # if you want to train and use new model for knowledge distillation\n",
    "    from peal.architectures.downstream_models import Symbolic2VectorModel\n",
    "    from peal.training.trainers import ModelTrainer\n",
    "    teacher_config = load_yaml_config('$PEAL/configs/models/symbolic_circle_classifier.yaml')\n",
    "    teacher_config['data'] = unpoisened_dataset_train.config\n",
    "    teacher_config['training']['max_epochs'] = 5\n",
    "\n",
    "    # create and train teacher model\n",
    "    teacher = Symbolic2VectorModel(teacher_config).to(device)\n",
    "    teacher_trainer = ModelTrainer(\n",
    "        config=teacher_config,\n",
    "        model=teacher,\n",
    "        datasource=(unpoisened_dataset_train, unpoisened_dataset_val),\n",
    "        model_name=request('teacher_model_name', 'artificial_symbolic_unpoisened_classifier'),\n",
    "        gigabyte_vram=gigabyte_vram\n",
    "    )\n",
    "    teacher_trainer.fit()\n",
    "    teacher_type = 'oracle'\n",
    "\n",
    "elif teacher_type == 'load':\n",
    "    # if you want to use existing model for knowledge distillation\n",
    "    teacher_path = request(\n",
    "        'teacher_path', 'peal_runs/artificial_symbolic_unpoisened_classifier/model.cpl')\n",
    "    teacher = torch.load(teacher_path).to(device)\n",
    "    teacher_type = 'oracle'\n",
    "\n",
    "else:\n",
    "    teacher = teacher_type"
   ]
  },
  {
   "cell_type": "code",
   "execution_count": 152,
   "metadata": {},
   "outputs": [],
   "source": [
    "import matplotlib.pyplot as plt\n",
    "import numpy as np\n",
    "import pandas as pd\n",
    "%matplotlib inline\n",
    "def plot_decision_boundary(model, dataset):\n",
    "    assert isinstance(dataset, peal.data.datasets.SymbolicDataset)\n",
    "    \n",
    "    data = torch.zeros([len(dataset.data),len(dataset.attributes)], dtype=torch.float16)\n",
    "    for idx, key in enumerate(dataset.data):\n",
    "        data[idx] = dataset.data[key]\n",
    "    \n",
    "    input_idx = [idx for idx, element in enumerate(unpoisened_dataset_train.attributes) if element in unpoisened_dataset_train.task_config['x_selection']]\n",
    "    target_idx = [idx for idx, element in enumerate(unpoisened_dataset_train.attributes) if element in unpoisened_dataset_train.task_config['y_selection']]\n",
    "    confounder_idx =  [idx for idx, element in enumerate(unpoisened_dataset_train.attributes) if element in list(set(confounding) - set(unpoisened_dataset_train.task_config['y_selection']))]\n",
    "    #if isinstance(data, torch.Tensor):\n",
    "    #    data = data.numpy()\n",
    "    #if isinstance(data, pd.DataFrame):\n",
    "    #    data = data.to_numpy()\n",
    "    #xmin, xmax = data[:,0].min()-1, data[:,0].max()+1\n",
    "    #ymin, ymax = data[:,1].min()-1, data[:,1].max()+1\n",
    "    \n",
    "    steps = 1000\n",
    "    #input_grid = []\n",
    "    #x1_span = np.linspace(-1.5, 1.5, steps)\n",
    "    #x2_span = np.linspace(-1.5, 1.5, steps)\n",
    "    #xx1, xx2 = np.meshgrid(x1_span, x2_span)\n",
    "    xx1, xx2 = np.meshgrid(*[np.linspace(float(data[:, [input_idx]].min()-0.5),float(data[:, [input_idx]].max()+0.5), 1000) for idx in input_idx])\n",
    "    grid = torch.from_numpy(np.array([xx1.flatten(), xx2.flatten()]).T).to(torch.float32)\n",
    "    #xx1, xx2 = np.meshgrid(*[np.linspace(int(data[:, 0].min())-0.5,int(data[:, 0].min())+0.5) for idx in input_idx])\n",
    "    #grid = torch.from_numpy(np.array([xx1.flatten(), xx2.flatten()]).T).to(torch.float32)\n",
    "    model.eval()\n",
    "    z = model(grid).to(torch.float32).detach().numpy().argmax(axis=1).reshape(xx1.shape)\n",
    "    fig, ax = plt.subplots()\n",
    "    #idx = features_idx+[class_label_idx]\n",
    "    ax.scatter(data[:,0], data[:,1], c=data[:,target_idx])\n",
    "    ax.contour(xx1, xx2, z, levels=[0],linestyles='dashed')\n",
    "    ax.grid()"
   ]
  },
  {
   "cell_type": "code",
   "execution_count": 153,
   "metadata": {},
   "outputs": [
    {
     "data": {
      "image/png": "[encoded data removed]",
      "text/plain": [
       "<Figure size 640x480 with 1 Axes>"
      ]
     },
     "metadata": {},
     "output_type": "display_data"
    }
   ],
   "source": [
    "plot_decision_boundary(student, poisened_dataset_train)"
   ]
  },
  {
   "cell_type": "code",
   "execution_count": 154,
   "metadata": {},
   "outputs": [
    {
     "data": {
      "image/png": "[encoded data removed]",
      "text/plain": [
       "<Figure size 640x480 with 1 Axes>"
      ]
     },
     "metadata": {},
     "output_type": "display_data"
    }
   ],
   "source": [
    "plot_decision_boundary(teacher, poisened_dataset_train)"
   ]
  },
  {
   "cell_type": "code",
   "execution_count": 6,
   "metadata": {},
   "outputs": [
    {
     "name": "stdin",
     "output_type": "stream",
     "text": [
      "Do you want to change value of cfkd_base_dir? [y/n] n\n"
     ]
    },
    {
     "name": "stdout",
     "output_type": "stream",
     "text": [
      "{'batch_size': 1, 'num_batches': 2, 'gigabyte_vram': 40, 'max_train_samples': 2, 'assumed_input_size': [3, 64, 64], 'finetune_iterations': 5, 'current_iteration': 0, 'use_confusion_matrix': False, 'continuos_learning': False, 'mixing_ratio': 0.5, 'min_start_target_percentile': 0.0, 'attribution_threshold': 0.5, 'max_validation_samples': 2, 'replace_model': True, 'fa_1sided_prime': 0.0, 'replacement_strategy': 'direct', 'explainer': {'explanation_style': 'counterfactual', 'learning_rate': 0.001, 'gradient_steps': 31, 'optimizer': 'Adam', 'y_target_goal_confidence': 0.65, 'use_masking': True, 'img_noise_injection': 0.01, 'l1_regularization': 1.0, 'log_prob_regularization': 0.0, 'img_regularization': 0.0}, 'training': {'train_batch_size': 1, 'val_batch_size': 1, 'test_batch_size': 1, 'base_batch_size': 50, 'gigabyte_vram': 40, 'assumed_input_size': [3, 64, 64], 'max_epochs': 1, 'learning_rate': 0.0, 'optimizer': 'adam', 'global_train_step': 0, 'global_validation_step': 0, 'epoch': -1, 'iterations_per_episode': 1, 'verbosity': 1}, 'data': {'radius': 1, 'noise_scale': 0, 'num_samples': 250, 'split': [0.8, 0.9], 'input_type': 'symbolic', 'input_size': [2], 'label_noise': 0.0, 'seed': 0, 'output_type': 'multiclass', 'output_size': 2, 'confounder_probability': 1.0, 'confounding_factors': ['Target', 'Confounder'], 'known_confounder': True, 'set_negative_to_zero': False, 'has_hint': False}, 'architecture': {}, 'task': {'criterions': {'ce': 1.0, 'l1': 10000.0}, 'output_type': 'multiclass', 'output_size': 2, 'x_selection': ['x1', 'x2'], 'y_selection': ['Target'], 'selection': ['x1', 'x2']}}\n",
      "Create base_dir in: peal_runs/artificial_symbolic_100_classifier/cfkd_oracle\n"
     ]
    },
    {
     "name": "stderr",
     "output_type": "stream",
     "text": [
      "Calculate Confusion Matrix: it: 0, current_accuracy: 1.0: : 0it [00:00, ?it/s]\n",
      "  0%|                                                                                            | 0/51 [00:00<?, ?it/s]\u001b[A\n",
      "Creating Counterfactuals: it: 0, loss: 8.728083610534668, target_confidences: [0.00016197256627492607], visual_differenc\u001b[A\n",
      "Creating Counterfactuals: it: 1, loss: 1.0000423192977905, target_confidences: [0.9999569654464722], visual_difference: \u001b[A\n",
      "Calculate Confusion Matrix: it: 1, current_accuracy: 1.0: : 1it [00:00,  7.01it/s]\n",
      "  0%|                                                                                            | 0/51 [00:00<?, ?it/s]\u001b[A\n",
      "Creating Counterfactuals: it: 0, loss: 6.944846153259277, target_confidences: [0.0009635886526666582], visual_difference\u001b[A\n",
      "Creating Counterfactuals: it: 1, loss: 1.0000052452087402, target_confidences: [0.9999945163726807], visual_difference: \u001b[A\n",
      "Calculate Confusion Matrix: it: 1, current_accuracy: 1.0: : 1it [00:00,  5.37it/s]\n",
      "test_correct: 0.7884615384615384, it: 51: : 52it [00:00, 235.88it/s]\n",
      "  0%|                                                                                | 1/20000 [00:00<02:22, 140.45it/s]\n",
      "Creating Counterfactuals: it: 1, loss: 1.0000290870666504, target_confidences: [0.999970555305481], visual_difference: 1\n",
      "  0%|                                                                                | 1/20000 [00:00<00:38, 514.70it/s]\n",
      "Creating Counterfactuals: it: 1, loss: 1.0000087022781372, target_confidences: [0.9999910593032837], visual_difference: \n",
      "  0%|                                                                                | 1/20000 [00:00<00:22, 890.89it/s]\n",
      "Creating Counterfactuals: it: 1, loss: 1.0000019073486328, target_confidences: [0.9999978542327881], visual_difference: \n"
     ]
    },
    {
     "name": "stdout",
     "output_type": "stream",
     "text": [
      "\n",
      "Epoch: 0\n"
     ]
    },
    {
     "name": "stderr",
     "output_type": "stream",
     "text": [
      "Model Training: train_it: 0, loss: 0.5927131175994873: : 1it [00:00, 33.02it/s]"
     ]
    },
    {
     "name": "stdout",
     "output_type": "stream",
     "text": [
      "\n",
      "epoch_train_loss_accumulated 0.5927131175994873\n",
      "epoch_train_accuracy 1.0\n",
      "epoch_train_predicted_classes: tensor([1., 0.])\n",
      "epoch_train_targets: tensor([1., 0.])\n",
      "epoch_train_classes_difference: tensor([0., 0.])\n"
     ]
    },
    {
     "name": "stderr",
     "output_type": "stream",
     "text": [
      "\n",
      "Model Training: validation_0_it: 23, loss: 0.5848121643066406: : 24it [00:00, 28.86it/s]\n"
     ]
    },
    {
     "name": "stdout",
     "output_type": "stream",
     "text": [
      "\n",
      "epoch_validation_0_loss_accumulated 0.6925186514854431\n",
      "epoch_validation_0_accuracy 0.5\n",
      "epoch_validation_0_predicted_classes: tensor([1., 0.])\n",
      "epoch_validation_0_targets: tensor([0.5000, 0.5000])\n",
      "epoch_validation_0_classes_difference: tensor([ 0.5000, -0.5000])\n"
     ]
    },
    {
     "name": "stderr",
     "output_type": "stream",
     "text": [
      "0it [00:00, ?it/s]\n"
     ]
    },
    {
     "name": "stdout",
     "output_type": "stream",
     "text": [
      "\n",
      "epoch_validation_1_loss_accumulated nan\n"
     ]
    },
    {
     "ename": "RuntimeError",
     "evalue": "torch.cat(): expected a non-empty list of Tensors",
     "output_type": "error",
     "traceback": [
      "\u001b[0;31m---------------------------------------------------------------------------\u001b[0m",
      "\u001b[0;31mRuntimeError\u001b[0m                              Traceback (most recent call last)",
      "Cell \u001b[0;32mIn[6], line 23\u001b[0m\n\u001b[1;32m     21\u001b[0m cfkd\u001b[38;5;241m.\u001b[39madaptor_config[\u001b[38;5;124m'\u001b[39m\u001b[38;5;124mexplainer\u001b[39m\u001b[38;5;124m'\u001b[39m][\u001b[38;5;124m'\u001b[39m\u001b[38;5;124mlearning_rate\u001b[39m\u001b[38;5;124m'\u001b[39m] \u001b[38;5;241m=\u001b[39m \u001b[38;5;241m1.0\u001b[39m\n\u001b[1;32m     22\u001b[0m cfkd\u001b[38;5;241m.\u001b[39madaptor_config[\u001b[38;5;124m'\u001b[39m\u001b[38;5;124mexplainer\u001b[39m\u001b[38;5;124m'\u001b[39m][\u001b[38;5;124m'\u001b[39m\u001b[38;5;124mgradient_steps\u001b[39m\u001b[38;5;124m'\u001b[39m] \u001b[38;5;241m=\u001b[39m \u001b[38;5;241m51\u001b[39m\n\u001b[0;32m---> 23\u001b[0m \u001b[43mcfkd\u001b[49m\u001b[38;5;241;43m.\u001b[39;49m\u001b[43mrun\u001b[49m\u001b[43m(\u001b[49m\u001b[43m)\u001b[49m\n",
      "File \u001b[0;32m/mnt/c/users/fahad/thesis/code/counterfactual_minimality/peal_private/peal/adaptors/counterfactual_knowledge_distillation.py:793\u001b[0m, in \u001b[0;36mCounterfactualKnowledgeDistillation.run\u001b[0;34m(self)\u001b[0m\n\u001b[1;32m    781\u001b[0m         writer\u001b[38;5;241m.\u001b[39madd_scalar(\n\u001b[1;32m    782\u001b[0m             \u001b[38;5;124m\"\u001b[39m\u001b[38;5;124mtrain_\u001b[39m\u001b[38;5;124m\"\u001b[39m \u001b[38;5;241m+\u001b[39m key,\n\u001b[1;32m    783\u001b[0m             validation_stats[key],\n\u001b[1;32m    784\u001b[0m             finetune_iteration,\n\u001b[1;32m    785\u001b[0m         )\n\u001b[1;32m    787\u001b[0m dataset_path \u001b[38;5;241m=\u001b[39m \u001b[38;5;28mself\u001b[39m\u001b[38;5;241m.\u001b[39mcreate_dataset(\n\u001b[1;32m    788\u001b[0m     feedback\u001b[38;5;241m=\u001b[39mfeedback,\n\u001b[1;32m    789\u001b[0m     finetune_iteration\u001b[38;5;241m=\u001b[39mfinetune_iteration,\n\u001b[1;32m    790\u001b[0m     mode\u001b[38;5;241m=\u001b[39m\u001b[38;5;124m\"\u001b[39m\u001b[38;5;124mtrain\u001b[39m\u001b[38;5;124m\"\u001b[39m,\n\u001b[1;32m    791\u001b[0m     \u001b[38;5;241m*\u001b[39m\u001b[38;5;241m*\u001b[39mtracked_values,\n\u001b[1;32m    792\u001b[0m )\n\u001b[0;32m--> 793\u001b[0m \u001b[38;5;28;43mself\u001b[39;49m\u001b[38;5;241;43m.\u001b[39;49m\u001b[43mfinetune_student\u001b[49m\u001b[43m(\u001b[49m\n\u001b[1;32m    794\u001b[0m \u001b[43m    \u001b[49m\u001b[43mfinetune_iteration\u001b[49m\u001b[38;5;241;43m=\u001b[39;49m\u001b[43mfinetune_iteration\u001b[49m\u001b[43m,\u001b[49m\n\u001b[1;32m    795\u001b[0m \u001b[43m    \u001b[49m\u001b[43mdataset_path\u001b[49m\u001b[38;5;241;43m=\u001b[39;49m\u001b[43mdataset_path\u001b[49m\u001b[43m,\u001b[49m\n\u001b[1;32m    796\u001b[0m \u001b[43m\u001b[49m\u001b[43m)\u001b[49m\n\u001b[1;32m    797\u001b[0m validation_stats \u001b[38;5;241m=\u001b[39m \u001b[38;5;28mself\u001b[39m\u001b[38;5;241m.\u001b[39mretrieve_validation_stats(\n\u001b[1;32m    798\u001b[0m     finetune_iteration\u001b[38;5;241m=\u001b[39mfinetune_iteration\n\u001b[1;32m    799\u001b[0m )\n\u001b[1;32m    800\u001b[0m \u001b[38;5;28;01mfor\u001b[39;00m key \u001b[38;5;129;01min\u001b[39;00m validation_stats\u001b[38;5;241m.\u001b[39mkeys():\n",
      "File \u001b[0;32m/mnt/c/users/fahad/thesis/code/counterfactual_minimality/peal_private/peal/adaptors/counterfactual_knowledge_distillation.py:724\u001b[0m, in \u001b[0;36mCounterfactualKnowledgeDistillation.finetune_student\u001b[0;34m(self, finetune_iteration, dataset_path)\u001b[0m\n\u001b[1;32m    711\u001b[0m         \u001b[38;5;28mself\u001b[39m\u001b[38;5;241m.\u001b[39mstudent\u001b[38;5;241m.\u001b[39mapply(weight_reset)\n\u001b[1;32m    713\u001b[0m     finetune_trainer \u001b[38;5;241m=\u001b[39m ModelTrainer(\n\u001b[1;32m    714\u001b[0m         config\u001b[38;5;241m=\u001b[39mcopy\u001b[38;5;241m.\u001b[39mdeepcopy(\u001b[38;5;28mself\u001b[39m\u001b[38;5;241m.\u001b[39madaptor_config),\n\u001b[1;32m    715\u001b[0m         model\u001b[38;5;241m=\u001b[39m\u001b[38;5;28mself\u001b[39m\u001b[38;5;241m.\u001b[39mstudent,\n\u001b[0;32m   (...)\u001b[0m\n\u001b[1;32m    722\u001b[0m         ],\n\u001b[1;32m    723\u001b[0m     )\n\u001b[0;32m--> 724\u001b[0m     \u001b[43mfinetune_trainer\u001b[49m\u001b[38;5;241;43m.\u001b[39;49m\u001b[43mfit\u001b[49m\u001b[43m(\u001b[49m\u001b[43mcontinue_training\u001b[49m\u001b[38;5;241;43m=\u001b[39;49m\u001b[38;5;28;43;01mTrue\u001b[39;49;00m\u001b[43m)\u001b[49m\n\u001b[1;32m    726\u001b[0m \u001b[38;5;28;01melse\u001b[39;00m:\n\u001b[1;32m    727\u001b[0m     \u001b[38;5;28mself\u001b[39m\u001b[38;5;241m.\u001b[39mstudent \u001b[38;5;241m=\u001b[39m torch\u001b[38;5;241m.\u001b[39mload(\n\u001b[1;32m    728\u001b[0m         os\u001b[38;5;241m.\u001b[39mpath\u001b[38;5;241m.\u001b[39mjoin(\n\u001b[1;32m    729\u001b[0m             \u001b[38;5;28mself\u001b[39m\u001b[38;5;241m.\u001b[39mbase_dir,\n\u001b[0;32m   (...)\u001b[0m\n\u001b[1;32m    734\u001b[0m         map_location\u001b[38;5;241m=\u001b[39m\u001b[38;5;28mself\u001b[39m\u001b[38;5;241m.\u001b[39mdevice,\n\u001b[1;32m    735\u001b[0m     )\n",
      "File \u001b[0;32m/mnt/c/users/fahad/thesis/code/counterfactual_minimality/peal_private/peal/training/trainers.py:293\u001b[0m, in \u001b[0;36mModelTrainer.fit\u001b[0;34m(self, continue_training, is_initialized)\u001b[0m\n\u001b[1;32m    291\u001b[0m val_accuracy \u001b[38;5;241m=\u001b[39m \u001b[38;5;241m0.0\u001b[39m\n\u001b[1;32m    292\u001b[0m \u001b[38;5;28;01mfor\u001b[39;00m idx, val_dataloader \u001b[38;5;129;01min\u001b[39;00m \u001b[38;5;28menumerate\u001b[39m(\u001b[38;5;28mself\u001b[39m\u001b[38;5;241m.\u001b[39mval_dataloaders):\n\u001b[0;32m--> 293\u001b[0m     val_loss, val_accuracy \u001b[38;5;241m=\u001b[39m \u001b[38;5;28;43mself\u001b[39;49m\u001b[38;5;241;43m.\u001b[39;49m\u001b[43mrun_epoch\u001b[49m\u001b[43m(\u001b[49m\n\u001b[1;32m    294\u001b[0m \u001b[43m        \u001b[49m\u001b[43mval_dataloader\u001b[49m\u001b[43m,\u001b[49m\u001b[43m \u001b[49m\u001b[43mmode\u001b[49m\u001b[38;5;241;43m=\u001b[39;49m\u001b[38;5;124;43m\"\u001b[39;49m\u001b[38;5;124;43mvalidation_\u001b[39;49m\u001b[38;5;124;43m\"\u001b[39;49m\u001b[43m \u001b[49m\u001b[38;5;241;43m+\u001b[39;49m\u001b[43m \u001b[49m\u001b[38;5;28;43mstr\u001b[39;49m\u001b[43m(\u001b[49m\u001b[43midx\u001b[49m\u001b[43m)\u001b[49m\n\u001b[1;32m    295\u001b[0m \u001b[43m    \u001b[49m\u001b[43m)\u001b[49m\n\u001b[1;32m    296\u001b[0m     val_accuracy \u001b[38;5;241m+\u001b[39m\u001b[38;5;241m=\u001b[39m \u001b[38;5;28mself\u001b[39m\u001b[38;5;241m.\u001b[39mval_dataloader_weights[idx] \u001b[38;5;241m*\u001b[39m val_accuracy\n\u001b[1;32m    298\u001b[0m \u001b[38;5;28mself\u001b[39m\u001b[38;5;241m.\u001b[39mlogger\u001b[38;5;241m.\u001b[39mwriter\u001b[38;5;241m.\u001b[39madd_scalar(\n\u001b[1;32m    299\u001b[0m     \u001b[38;5;124m\"\u001b[39m\u001b[38;5;124mval_accuracy\u001b[39m\u001b[38;5;124m\"\u001b[39m, val_accuracy, \u001b[38;5;28mself\u001b[39m\u001b[38;5;241m.\u001b[39mconfig[\u001b[38;5;124m\"\u001b[39m\u001b[38;5;124mtraining\u001b[39m\u001b[38;5;124m\"\u001b[39m][\u001b[38;5;124m\"\u001b[39m\u001b[38;5;124mepoch\u001b[39m\u001b[38;5;124m\"\u001b[39m]\n\u001b[1;32m    300\u001b[0m )\n",
      "File \u001b[0;32m/mnt/c/users/fahad/thesis/code/counterfactual_minimality/peal_private/peal/training/trainers.py:186\u001b[0m, in \u001b[0;36mModelTrainer.run_epoch\u001b[0;34m(self, dataloader, mode)\u001b[0m\n\u001b[1;32m    183\u001b[0m             \u001b[38;5;28mself\u001b[39m\u001b[38;5;241m.\u001b[39moptimizer\u001b[38;5;241m.\u001b[39mstep()\n\u001b[1;32m    185\u001b[0m \u001b[38;5;66;03m#\u001b[39;00m\n\u001b[0;32m--> 186\u001b[0m accuracy \u001b[38;5;241m=\u001b[39m \u001b[38;5;28;43mself\u001b[39;49m\u001b[38;5;241;43m.\u001b[39;49m\u001b[43mlogger\u001b[49m\u001b[38;5;241;43m.\u001b[39;49m\u001b[43mlog_epoch\u001b[49m\u001b[43m(\u001b[49m\u001b[43mmode\u001b[49m\u001b[43m)\u001b[49m\n\u001b[1;32m    188\u001b[0m \u001b[38;5;28;01mreturn\u001b[39;00m loss\u001b[38;5;241m.\u001b[39mdetach()\u001b[38;5;241m.\u001b[39mitem(), accuracy\n",
      "File \u001b[0;32m/mnt/c/users/fahad/thesis/code/counterfactual_minimality/peal_private/peal/training/loggers.py:115\u001b[0m, in \u001b[0;36mLogger.log_epoch\u001b[0;34m(self, mode)\u001b[0m\n\u001b[1;32m    109\u001b[0m \u001b[38;5;28mprint\u001b[39m(\u001b[38;5;124m\"\u001b[39m\u001b[38;5;124mepoch_\u001b[39m\u001b[38;5;124m\"\u001b[39m \u001b[38;5;241m+\u001b[39m mode \u001b[38;5;241m+\u001b[39m \u001b[38;5;124m\"\u001b[39m\u001b[38;5;124m_loss_accumulated\u001b[39m\u001b[38;5;124m\"\u001b[39m, \u001b[38;5;28mstr\u001b[39m(loss_accumulated\u001b[38;5;241m.\u001b[39mitem()))\n\u001b[1;32m    111\u001b[0m \u001b[38;5;28;01mif\u001b[39;00m \u001b[38;5;124m\"\u001b[39m\u001b[38;5;124mce\u001b[39m\u001b[38;5;124m\"\u001b[39m \u001b[38;5;129;01min\u001b[39;00m \u001b[38;5;28mself\u001b[39m\u001b[38;5;241m.\u001b[39mconfig[\u001b[38;5;124m\"\u001b[39m\u001b[38;5;124mtask\u001b[39m\u001b[38;5;124m\"\u001b[39m][\u001b[38;5;124m\"\u001b[39m\u001b[38;5;124mcriterions\u001b[39m\u001b[38;5;124m\"\u001b[39m]\u001b[38;5;241m.\u001b[39mkeys() \u001b[38;5;129;01mand\u001b[39;00m \u001b[38;5;129;01mnot\u001b[39;00m \u001b[38;5;28misinstance\u001b[39m(\n\u001b[1;32m    112\u001b[0m     \u001b[38;5;28mself\u001b[39m\u001b[38;5;241m.\u001b[39mmodel, InvertibleGenerator\n\u001b[1;32m    113\u001b[0m ):\n\u001b[1;32m    114\u001b[0m     targets_one_hot \u001b[38;5;241m=\u001b[39m torch\u001b[38;5;241m.\u001b[39mnn\u001b[38;5;241m.\u001b[39mfunctional\u001b[38;5;241m.\u001b[39mone_hot(\n\u001b[0;32m--> 115\u001b[0m         \u001b[43mtorch\u001b[49m\u001b[38;5;241;43m.\u001b[39;49m\u001b[43mcat\u001b[49m\u001b[43m(\u001b[49m\u001b[38;5;28;43mself\u001b[39;49m\u001b[38;5;241;43m.\u001b[39;49m\u001b[43mtargets\u001b[49m\u001b[43m)\u001b[49m\u001b[38;5;241m.\u001b[39mto(torch\u001b[38;5;241m.\u001b[39mint64), \u001b[38;5;28mself\u001b[39m\u001b[38;5;241m.\u001b[39moutput_size\n\u001b[1;32m    116\u001b[0m     )\u001b[38;5;241m.\u001b[39mto(torch\u001b[38;5;241m.\u001b[39mfloat32)\n\u001b[1;32m    117\u001b[0m     predictions_one_hot \u001b[38;5;241m=\u001b[39m torch\u001b[38;5;241m.\u001b[39mnn\u001b[38;5;241m.\u001b[39mfunctional\u001b[38;5;241m.\u001b[39mone_hot(\n\u001b[1;32m    118\u001b[0m         torch\u001b[38;5;241m.\u001b[39mcat(\u001b[38;5;28mself\u001b[39m\u001b[38;5;241m.\u001b[39mpredicted_classes)\u001b[38;5;241m.\u001b[39mto(torch\u001b[38;5;241m.\u001b[39mint64), \u001b[38;5;28mself\u001b[39m\u001b[38;5;241m.\u001b[39moutput_size\n\u001b[1;32m    119\u001b[0m     )\u001b[38;5;241m.\u001b[39mto(torch\u001b[38;5;241m.\u001b[39mfloat32)\n\u001b[1;32m    121\u001b[0m \u001b[38;5;28;01mif\u001b[39;00m \u001b[38;5;124m\"\u001b[39m\u001b[38;5;124mbce\u001b[39m\u001b[38;5;124m\"\u001b[39m \u001b[38;5;129;01min\u001b[39;00m \u001b[38;5;28mself\u001b[39m\u001b[38;5;241m.\u001b[39mconfig[\u001b[38;5;124m\"\u001b[39m\u001b[38;5;124mtask\u001b[39m\u001b[38;5;124m\"\u001b[39m][\u001b[38;5;124m\"\u001b[39m\u001b[38;5;124mcriterions\u001b[39m\u001b[38;5;124m\"\u001b[39m]\u001b[38;5;241m.\u001b[39mkeys() \u001b[38;5;129;01mand\u001b[39;00m \u001b[38;5;129;01mnot\u001b[39;00m \u001b[38;5;28misinstance\u001b[39m(\n\u001b[1;32m    122\u001b[0m     \u001b[38;5;28mself\u001b[39m\u001b[38;5;241m.\u001b[39mmodel, InvertibleGenerator\n\u001b[1;32m    123\u001b[0m ):\n",
      "\u001b[0;31mRuntimeError\u001b[0m: torch.cat(): expected a non-empty list of Tensors"
     ]
    }
   ],
   "source": [
    "# use counterfactual knowledge distillation to improve model\n",
    "from peal.adaptors.counterfactual_knowledge_distillation import CounterfactualKnowledgeDistillation\n",
    "cfkd = CounterfactualKnowledgeDistillation(\n",
    "    student=student,\n",
    "    datasource=(\n",
    "        poisened_dataset_train,\n",
    "        poisened_dataset_val,\n",
    "        unpoisened_dataset_test,\n",
    "    ),\n",
    "    output_size=2,\n",
    "    generator=generator,\n",
    "    teacher=teacher,\n",
    "    base_dir=request(\n",
    "        'cfkd_base_dir',\n",
    "        'peal_runs/artificial_symbolic_' + confounder_probability +\n",
    "        '_classifier/cfkd_' + teacher_type\n",
    "    ),\n",
    "    gigabyte_vram=gigabyte_vram,\n",
    "    overwrite=True,\n",
    ")\n",
    "cfkd.adaptor_config['explainer']['learning_rate'] = 1.0\n",
    "cfkd.adaptor_config['explainer']['gradient_steps'] = 51\n",
    "cfkd.run()"
   ]
  },
  {
   "cell_type": "code",
   "execution_count": 49,
   "metadata": {},
   "outputs": [],
   "source": [
    "# NOTES:\n",
    "# 1. When student is ran without generating data, confounder probability is not defined and, therefore, the logic of loading preexisting model fails (need to load data before, should be allowed to skip)\n",
    "# 2. unclear about the folder structure for cfdk\n",
    "# 3. "
   ]
  },
  {
   "cell_type": "code",
   "execution_count": null,
   "metadata": {},
   "outputs": [],
   "source": []
  },
  {
   "cell_type": "code",
   "execution_count": null,
   "metadata": {},
   "outputs": [],
   "source": [
    "# for dataloaders.py    \n",
    "    if isinstance(val_dataloader, torch.utils.data.dataloader.DataLoader):\n",
    "        if len(val_dataloader.dataset.data[list(val_dataloader.dataset.data.keys())[-1]]) < 1:\n",
    "            val_dataloader.dataset.data.popitem()\n"
   ]
  },
  {
   "cell_type": "code",
   "execution_count": 11,
   "metadata": {},
   "outputs": [
    {
     "data": {
      "text/plain": [
       "{'0': tensor([0.2402, 0.9707, 1.0000, 1.0000]),\n",
       " '1': tensor([0.9904, 0.1382, 1.0000, 1.0000]),\n",
       " '2': tensor([0.8900, 0.4560, 1.0000, 1.0000]),\n",
       " '3': tensor([0.8502, 0.5264, 1.0000, 1.0000]),\n",
       " '4': tensor([0.9983, 0.0577, 1.0000, 1.0000]),\n",
       " '5': tensor([0.0115, 0.9999, 1.0000, 1.0000]),\n",
       " '6': tensor([0.1951, 0.9808, 1.0000, 1.0000]),\n",
       " '7': tensor([0.6651, 0.7467, 1.0000, 1.0000]),\n",
       " '8': tensor([0.9760, 0.2177, 1.0000, 1.0000]),\n",
       " '9': tensor([0.9994, 0.0346, 1.0000, 1.0000]),\n",
       " '10': tensor([0.3933, 0.9194, 1.0000, 1.0000]),\n",
       " '11': tensor([0.3287, 0.9444, 1.0000, 1.0000]),\n",
       " '12': tensor([0.8378, 0.5459, 1.0000, 1.0000]),\n",
       " '13': tensor([0.6651, 0.7467, 1.0000, 1.0000]),\n",
       " '14': tensor([0.5166, 0.8562, 1.0000, 1.0000]),\n",
       " '15': tensor([0.9989, 0.0462, 1.0000, 1.0000]),\n",
       " '16': tensor([0.2625, 0.9649, 1.0000, 1.0000]),\n",
       " '17': tensor([0.9904, 0.1382, 1.0000, 1.0000]),\n",
       " '18': tensor([0.7839, 0.6209, 1.0000, 1.0000]),\n",
       " '19': tensor([0.0462, 0.9989, 1.0000, 1.0000]),\n",
       " '20': tensor([0.1951, 0.9808, 1.0000, 1.0000]),\n",
       " '21': tensor([0.7071, 0.7071, 1.0000, 1.0000]),\n",
       " '22': tensor([0.7910, 0.6118, 1.0000, 1.0000]),\n",
       " '23': tensor([0.1837, 0.9830, 1.0000, 1.0000]),\n",
       " '24': tensor([0.6026, 0.7980, 1.0000, 1.0000]),\n",
       " '25': tensor([0.8621, 0.5067, 1.0000, 1.0000]),\n",
       " '26': tensor([0.4967, 0.8679, 1.0000, 1.0000]),\n",
       " '27': tensor([0.6026, 0.7980, 1.0000, 1.0000]),\n",
       " '28': tensor([0.9904, 0.1382, 1.0000, 1.0000]),\n",
       " '29': tensor([0.0231, 0.9997, 1.0000, 1.0000]),\n",
       " '30': tensor([0.6989, 0.7152, 1.0000, 1.0000]),\n",
       " '31': tensor([0.7693, 0.6388, 1.0000, 1.0000]),\n",
       " '32': tensor([0.9282, 0.3720, 1.0000, 1.0000]),\n",
       " '33': tensor([0.9052, 0.4249, 1.0000, 1.0000]),\n",
       " '34': tensor([0.1152, 0.9933, 1.0000, 1.0000]),\n",
       " '35': tensor([0.7619, 0.6477, 1.0000, 1.0000]),\n",
       " '36': tensor([0.8621, 0.5067, 1.0000, 1.0000]),\n",
       " '37': tensor([0.9406, 0.3396, 1.0000, 1.0000]),\n",
       " '38': tensor([0.9482, 0.3178, 1.0000, 1.0000]),\n",
       " '39': tensor([0.9406, 0.3396, 1.0000, 1.0000]),\n",
       " '40': tensor([0.1038, 0.9946, 1.0000, 1.0000]),\n",
       " '41': tensor([0.6651, 0.7467, 1.0000, 1.0000]),\n",
       " '42': tensor([0.6388, 0.7693, 1.0000, 1.0000]),\n",
       " '43': tensor([0.4249, 0.9052, 1.0000, 1.0000]),\n",
       " '44': tensor([0.9003, 0.4354, 1.0000, 1.0000]),\n",
       " '45': tensor([0.9904, 0.1382, 1.0000, 1.0000]),\n",
       " '46': tensor([0.5067, 0.8621, 1.0000, 1.0000]),\n",
       " '47': tensor([0.9282, 0.3720, 1.0000, 1.0000]),\n",
       " '48': tensor([0.8900, 0.4560, 1.0000, 1.0000]),\n",
       " '49': tensor([0.9366, 0.3504, 1.0000, 1.0000]),\n",
       " '50': tensor([0.1382, 0.9904, 1.0000, 1.0000]),\n",
       " '51': tensor([0.6388, 0.7693, 1.0000, 1.0000]),\n",
       " '52': tensor([0.9148, 0.4039, 1.0000, 1.0000]),\n",
       " '53': tensor([0.7390, 0.6737, 1.0000, 1.0000]),\n",
       " '54': tensor([0.9983, 0.0577, 1.0000, 1.0000]),\n",
       " '55': tensor([0.2177, 0.9760, 1.0000, 1.0000]),\n",
       " '56': tensor([0.7544, 0.6564, 1.0000, 1.0000]),\n",
       " '57': tensor([0.4866, 0.8736, 1.0000, 1.0000]),\n",
       " '58': tensor([0.2737, 0.9618, 1.0000, 1.0000]),\n",
       " '59': tensor([0.3504, 0.9366, 1.0000, 1.0000]),\n",
       " '60': tensor([0.4967, 0.8679, 1.0000, 1.0000]),\n",
       " '61': tensor([0.9518, 0.3068, 1.0000, 1.0000]),\n",
       " '62': tensor([0.6564, 0.7544, 1.0000, 1.0000]),\n",
       " '63': tensor([0.4560, 0.8900, 1.0000, 1.0000]),\n",
       " '64': tensor([0.9785, 0.2064, 1.0000, 1.0000]),\n",
       " '65': tensor([0.7910, 0.6118, 1.0000, 1.0000]),\n",
       " '66': tensor([0.9148, 0.4039, 1.0000, 1.0000]),\n",
       " '67': tensor([0.8502, 0.5264, 1.0000, 1.0000]),\n",
       " '68': tensor([0.8441, 0.5362, 1.0000, 1.0000]),\n",
       " '69': tensor([0.1837, 0.9830, 1.0000, 1.0000]),\n",
       " '70': tensor([0.2064, 0.9785, 1.0000, 1.0000]),\n",
       " '71': tensor([0.7071, 0.7071, 1.0000, 1.0000]),\n",
       " '72': tensor([0.1382, 0.9904, 1.0000, 1.0000]),\n",
       " '73': tensor([0.7467, 0.6651, 1.0000, 1.0000]),\n",
       " '74': tensor([0.9052, 0.4249, 1.0000, 1.0000]),\n",
       " '75': tensor([0.9976, 0.0692, 1.0000, 1.0000]),\n",
       " '76': tensor([0.4249, 0.9052, 1.0000, 1.0000]),\n",
       " '77': tensor([0.7980, 0.6026, 1.0000, 1.0000]),\n",
       " '78': tensor([0.9003, 0.4354, 1.0000, 1.0000]),\n",
       " '79': tensor([0.8378, 0.5459, 1.0000, 1.0000]),\n",
       " '80': tensor([0.9946, 0.1038, 1.0000, 1.0000]),\n",
       " '81': tensor([0.1496, 0.9887, 1.0000, 1.0000]),\n",
       " '82': tensor([0.7152, 0.6989, 1.0000, 1.0000]),\n",
       " '83': tensor([0.7467, 0.6651, 1.0000, 1.0000]),\n",
       " '84': tensor([0.9808, 0.1951, 1.0000, 1.0000]),\n",
       " '85': tensor([0.9904, 0.1382, 1.0000, 1.0000]),\n",
       " '86': tensor([0.9707, 0.2402, 1.0000, 1.0000]),\n",
       " '87': tensor([0.3933, 0.9194, 1.0000, 1.0000]),\n",
       " '88': tensor([0.9850, 0.1724, 1.0000, 1.0000]),\n",
       " '89': tensor([0.1724, 0.9850, 1.0000, 1.0000]),\n",
       " '90': tensor([0.8184, 0.5746, 1.0000, 1.0000]),\n",
       " '91': tensor([0.0231, 0.9997, 1.0000, 1.0000]),\n",
       " '92': tensor([0.9850, 0.1724, 1.0000, 1.0000]),\n",
       " '93': tensor([0.2402, 0.9707, 1.0000, 1.0000]),\n",
       " '94': tensor([0.8250, 0.5651, 1.0000, 1.0000]),\n",
       " '95': tensor([0.9282, 0.3720, 1.0000, 1.0000]),\n",
       " '96': tensor([0.4866, 0.8736, 1.0000, 1.0000]),\n",
       " '97': tensor([0.9967, 0.0808, 1.0000, 1.0000]),\n",
       " '98': tensor([0.1724, 0.9850, 1.0000, 1.0000]),\n",
       " '99': tensor([0.7233, 0.6906, 1.0000, 1.0000]),\n",
       " '100': tensor([0.6388, 0.7693, 1.0000, 1.0000]),\n",
       " '101': tensor([0.5264, 0.8502, 1.0000, 1.0000]),\n",
       " '102': tensor([0.8900, 0.4560, 1.0000, 1.0000]),\n",
       " '103': tensor([0.9101, 0.4145, 1.0000, 1.0000]),\n",
       " '104': tensor([0.7467, 0.6651, 1.0000, 1.0000]),\n",
       " '105': tensor([0.7467, 0.6651, 1.0000, 1.0000]),\n",
       " '106': tensor([0.6299, 0.7767, 1.0000, 1.0000]),\n",
       " '107': tensor([0.9760, 0.2177, 1.0000, 1.0000]),\n",
       " '108': tensor([0.0808, 0.9967, 1.0000, 1.0000]),\n",
       " '109': tensor([0.9997, 0.0231, 1.0000, 1.0000]),\n",
       " '110': tensor([0.4967, 0.8679, 1.0000, 1.0000]),\n",
       " '111': tensor([0.2625, 0.9649, 1.0000, 1.0000]),\n",
       " '112': tensor([0.3178, 0.9482, 1.0000, 1.0000]),\n",
       " '113': tensor([0.6118, 0.7910, 1.0000, 1.0000]),\n",
       " '114': tensor([0.9870, 0.1610, 1.0000, 1.0000]),\n",
       " '115': tensor([0.7071, 0.7071, 1.0000, 1.0000]),\n",
       " '116': tensor([0.3396, 0.9406, 1.0000, 1.0000]),\n",
       " '117': tensor([0.9976, 0.0692, 1.0000, 1.0000]),\n",
       " '118': tensor([0.9518, 0.3068, 1.0000, 1.0000]),\n",
       " '119': tensor([0.9870, 0.1610, 1.0000, 1.0000]),\n",
       " '120': tensor([0.8621, 0.5067, 1.0000, 1.0000]),\n",
       " '121': tensor([0.7910, 0.6118, 1.0000, 1.0000]),\n",
       " '122': tensor([0.7767, 0.6299, 1.0000, 1.0000]),\n",
       " '123': tensor([0.9785, 0.2064, 1.0000, 1.0000]),\n",
       " '124': tensor([0.4457, 0.8952, 1.0000, 1.0000]),\n",
       " '375': tensor([-0.4866, -0.8736,  0.0000,  0.0000]),\n",
       " '376': tensor([-0.3178, -0.9482,  0.0000,  0.0000]),\n",
       " '377': tensor([-0.3612, -0.9325,  0.0000,  0.0000]),\n",
       " '378': tensor([-0.4039, -0.9148,  0.0000,  0.0000]),\n",
       " '379': tensor([-0.1951, -0.9808,  0.0000,  0.0000]),\n",
       " '380': tensor([-0.8184, -0.5746,  0.0000,  0.0000]),\n",
       " '381': tensor([-0.8736, -0.4866,  0.0000,  0.0000]),\n",
       " '382': tensor([-0.5840, -0.8117,  0.0000,  0.0000]),\n",
       " '383': tensor([-0.7312, -0.6822,  0.0000,  0.0000]),\n",
       " '384': tensor([-0.9518, -0.3068,  0.0000,  0.0000]),\n",
       " '385': tensor([-1.8370e-16, -1.0000e+00,  0.0000e+00,  0.0000e+00]),\n",
       " '386': tensor([-0.5746, -0.8184,  0.0000,  0.0000]),\n",
       " '387': tensor([-0.6388, -0.7693,  0.0000,  0.0000]),\n",
       " '388': tensor([-0.7839, -0.6209,  0.0000,  0.0000]),\n",
       " '389': tensor([-0.9870, -0.1610,  0.0000,  0.0000]),\n",
       " '390': tensor([-0.9760, -0.2177,  0.0000,  0.0000]),\n",
       " '391': tensor([-0.8679, -0.4967,  0.0000,  0.0000]),\n",
       " '392': tensor([-0.5264, -0.8502,  0.0000,  0.0000]),\n",
       " '393': tensor([-0.6822, -0.7312,  0.0000,  0.0000]),\n",
       " '394': tensor([-0.8562, -0.5166,  0.0000,  0.0000]),\n",
       " '395': tensor([-0.8049, -0.5934,  0.0000,  0.0000]),\n",
       " '396': tensor([-0.8736, -0.4866,  0.0000,  0.0000]),\n",
       " '397': tensor([-0.7233, -0.6906,  0.0000,  0.0000]),\n",
       " '398': tensor([-0.3827, -0.9239,  0.0000,  0.0000]),\n",
       " '399': tensor([-0.9967, -0.0808,  0.0000,  0.0000]),\n",
       " '400': tensor([-0.1610, -0.9870,  0.0000,  0.0000]),\n",
       " '401': tensor([-0.9933, -0.1152,  0.0000,  0.0000]),\n",
       " '402': tensor([-0.9989, -0.0462,  0.0000,  0.0000]),\n",
       " '403': tensor([-0.1382, -0.9904,  0.0000,  0.0000]),\n",
       " '404': tensor([-0.9194, -0.3933,  0.0000,  0.0000]),\n",
       " '405': tensor([-0.9997, -0.0231,  0.0000,  0.0000]),\n",
       " '406': tensor([-0.9003, -0.4354,  0.0000,  0.0000]),\n",
       " '407': tensor([-0.4560, -0.8900,  0.0000,  0.0000]),\n",
       " '408': tensor([-0.5362, -0.8441,  0.0000,  0.0000]),\n",
       " '409': tensor([-0.8562, -0.5166,  0.0000,  0.0000]),\n",
       " '410': tensor([-0.5264, -0.8502,  0.0000,  0.0000]),\n",
       " '411': tensor([-0.9052, -0.4249,  0.0000,  0.0000]),\n",
       " '412': tensor([-0.4663, -0.8846,  0.0000,  0.0000]),\n",
       " '413': tensor([-0.4967, -0.8679,  0.0000,  0.0000]),\n",
       " '414': tensor([-0.5746, -0.8184,  0.0000,  0.0000]),\n",
       " '415': tensor([-0.9967, -0.0808,  0.0000,  0.0000]),\n",
       " '416': tensor([-0.6477, -0.7619,  0.0000,  0.0000]),\n",
       " '417': tensor([-0.9997, -0.0231,  0.0000,  0.0000]),\n",
       " '418': tensor([-0.6026, -0.7980,  0.0000,  0.0000]),\n",
       " '419': tensor([-0.9734, -0.2290,  0.0000,  0.0000]),\n",
       " '420': tensor([-0.7233, -0.6906,  0.0000,  0.0000]),\n",
       " '421': tensor([-0.9933, -0.1152,  0.0000,  0.0000]),\n",
       " '422': tensor([-0.9870, -0.1610,  0.0000,  0.0000]),\n",
       " '423': tensor([-0.6822, -0.7312,  0.0000,  0.0000]),\n",
       " '424': tensor([-0.9919, -0.1267,  0.0000,  0.0000]),\n",
       " '425': tensor([-0.1610, -0.9870,  0.0000,  0.0000]),\n",
       " '426': tensor([-0.8736, -0.4866,  0.0000,  0.0000]),\n",
       " '427': tensor([-0.3827, -0.9239,  0.0000,  0.0000]),\n",
       " '428': tensor([-0.0231, -0.9997,  0.0000,  0.0000]),\n",
       " '429': tensor([-0.9830, -0.1837,  0.0000,  0.0000]),\n",
       " '430': tensor([-0.9850, -0.1724,  0.0000,  0.0000]),\n",
       " '431': tensor([-0.9999, -0.0115,  0.0000,  0.0000]),\n",
       " '432': tensor([-0.9148, -0.4039,  0.0000,  0.0000]),\n",
       " '433': tensor([-0.4249, -0.9052,  0.0000,  0.0000]),\n",
       " '434': tensor([-0.9967, -0.0808,  0.0000,  0.0000]),\n",
       " '435': tensor([-0.5166, -0.8562,  0.0000,  0.0000]),\n",
       " '436': tensor([-0.9989, -0.0462,  0.0000,  0.0000]),\n",
       " '437': tensor([-0.6989, -0.7152,  0.0000,  0.0000]),\n",
       " '438': tensor([-0.3827, -0.9239,  0.0000,  0.0000]),\n",
       " '439': tensor([-0.4457, -0.8952,  0.0000,  0.0000]),\n",
       " '440': tensor([-0.2402, -0.9707,  0.0000,  0.0000]),\n",
       " '441': tensor([-0.7071, -0.7071,  0.0000,  0.0000]),\n",
       " '442': tensor([-0.9194, -0.3933,  0.0000,  0.0000]),\n",
       " '443': tensor([-0.9870, -0.1610,  0.0000,  0.0000]),\n",
       " '444': tensor([-0.0923, -0.9957,  0.0000,  0.0000]),\n",
       " '445': tensor([-0.2514, -0.9679,  0.0000,  0.0000]),\n",
       " '446': tensor([-0.3287, -0.9444,  0.0000,  0.0000]),\n",
       " '447': tensor([-0.9003, -0.4354,  0.0000,  0.0000]),\n",
       " '448': tensor([-0.8792, -0.4765,  0.0000,  0.0000]),\n",
       " '449': tensor([-0.7071, -0.7071,  0.0000,  0.0000]),\n",
       " '450': tensor([-0.9482, -0.3178,  0.0000,  0.0000]),\n",
       " '451': tensor([-0.3612, -0.9325,  0.0000,  0.0000]),\n",
       " '452': tensor([-0.8679, -0.4967,  0.0000,  0.0000]),\n",
       " '453': tensor([-0.5556, -0.8315,  0.0000,  0.0000]),\n",
       " '454': tensor([-0.8184, -0.5746,  0.0000,  0.0000]),\n",
       " '455': tensor([-0.5840, -0.8117,  0.0000,  0.0000]),\n",
       " '456': tensor([-0.0231, -0.9997,  0.0000,  0.0000]),\n",
       " '457': tensor([-0.5651, -0.8250,  0.0000,  0.0000]),\n",
       " '458': tensor([-0.6989, -0.7152,  0.0000,  0.0000]),\n",
       " '459': tensor([-0.4457, -0.8952,  0.0000,  0.0000]),\n",
       " '460': tensor([-0.4663, -0.8846,  0.0000,  0.0000]),\n",
       " '461': tensor([-0.3287, -0.9444,  0.0000,  0.0000]),\n",
       " '462': tensor([-0.4866, -0.8736,  0.0000,  0.0000]),\n",
       " '463': tensor([-0.3068, -0.9518,  0.0000,  0.0000]),\n",
       " '464': tensor([-0.8049, -0.5934,  0.0000,  0.0000]),\n",
       " '465': tensor([-0.9552, -0.2958,  0.0000,  0.0000]),\n",
       " '466': tensor([-0.9785, -0.2064,  0.0000,  0.0000]),\n",
       " '467': tensor([-0.9808, -0.1951,  0.0000,  0.0000]),\n",
       " '468': tensor([-0.8378, -0.5459,  0.0000,  0.0000]),\n",
       " '469': tensor([-0.7467, -0.6651,  0.0000,  0.0000]),\n",
       " '470': tensor([-0.6737, -0.7390,  0.0000,  0.0000]),\n",
       " '471': tensor([-0.4560, -0.8900,  0.0000,  0.0000]),\n",
       " '472': tensor([-0.5362, -0.8441,  0.0000,  0.0000]),\n",
       " '473': tensor([-0.9933, -0.1152,  0.0000,  0.0000]),\n",
       " '474': tensor([-0.5166, -0.8562,  0.0000,  0.0000]),\n",
       " '475': tensor([-0.1152, -0.9933,  0.0000,  0.0000]),\n",
       " '476': tensor([-0.2064, -0.9785,  0.0000,  0.0000]),\n",
       " '477': tensor([-0.6118, -0.7910,  0.0000,  0.0000]),\n",
       " '478': tensor([-0.8621, -0.5067,  0.0000,  0.0000]),\n",
       " '479': tensor([-0.9239, -0.3827,  0.0000,  0.0000]),\n",
       " '480': tensor([-0.9983, -0.0577,  0.0000,  0.0000]),\n",
       " '481': tensor([-0.6906, -0.7233,  0.0000,  0.0000]),\n",
       " '482': tensor([-0.1152, -0.9933,  0.0000,  0.0000]),\n",
       " '483': tensor([-0.6299, -0.7767,  0.0000,  0.0000]),\n",
       " '484': tensor([-0.9999, -0.0115,  0.0000,  0.0000]),\n",
       " '485': tensor([-0.4249, -0.9052,  0.0000,  0.0000]),\n",
       " '486': tensor([-0.2290, -0.9734,  0.0000,  0.0000]),\n",
       " '487': tensor([-0.7233, -0.6906,  0.0000,  0.0000]),\n",
       " '488': tensor([-0.1496, -0.9887,  0.0000,  0.0000]),\n",
       " '489': tensor([-0.9808, -0.1951,  0.0000,  0.0000]),\n",
       " '490': tensor([-0.9003, -0.4354,  0.0000,  0.0000]),\n",
       " '491': tensor([-0.3178, -0.9482,  0.0000,  0.0000]),\n",
       " '492': tensor([-0.5556, -0.8315,  0.0000,  0.0000]),\n",
       " '493': tensor([-0.2290, -0.9734,  0.0000,  0.0000]),\n",
       " '494': tensor([-0.2514, -0.9679,  0.0000,  0.0000]),\n",
       " '495': tensor([-0.3612, -0.9325,  0.0000,  0.0000]),\n",
       " '496': tensor([-0.8900, -0.4560,  0.0000,  0.0000]),\n",
       " '497': tensor([-0.8900, -0.4560,  0.0000,  0.0000]),\n",
       " '498': tensor([-0.4560, -0.8900,  0.0000,  0.0000]),\n",
       " '499': tensor([-0.4145, -0.9101,  0.0000,  0.0000])}"
      ]
     },
     "execution_count": 11,
     "metadata": {},
     "output_type": "execute_result"
    }
   ],
   "source": [
    "poisened_dataset_val.data"
   ]
  },
  {
   "cell_type": "code",
   "execution_count": 20,
   "metadata": {},
   "outputs": [
    {
     "data": {
      "text/plain": [
       "{'criterions': {'ce': 1.0, 'l1': 10000.0},\n",
       " 'output_type': 'multiclass',\n",
       " 'output_size': 2,\n",
       " 'x_selection': ['x1', 'x2'],\n",
       " 'y_selection': ['Target'],\n",
       " 'selection': ['x1', 'x2']}"
      ]
     },
     "execution_count": 20,
     "metadata": {},
     "output_type": "execute_result"
    }
   ],
   "source": [
    "unpoisened_dataset_train.task_config"
   ]
  },
  {
   "cell_type": "code",
   "execution_count": null,
   "metadata": {},
   "outputs": [],
   "source": []
  }
 ],
 "metadata": {
  "kernelspec": {
   "display_name": "Python 3 (ipykernel)",
   "language": "python",
   "name": "python3"
  },
  "language_info": {
   "codemirror_mode": {
    "name": "ipython",
    "version": 3
   },
   "file_extension": ".py",
   "mimetype": "text/x-python",
   "name": "python",
   "nbconvert_exporter": "python",
   "pygments_lexer": "ipython3",
   "version": "3.9.16"
  }
 },
 "nbformat": 4,
 "nbformat_minor": 4
}
