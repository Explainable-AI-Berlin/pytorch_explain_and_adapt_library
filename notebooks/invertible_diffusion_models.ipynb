{
 "cells": [
  {
   "cell_type": "code",
   "execution_count": null,
   "metadata": {},
   "outputs": [],
   "source": [
    "from dataclasses import dataclass\n",
    "from tqdm.auto import tqdm\n",
    "from PIL import x\n",
    "import torch\n",
    "import torchvision\n",
    "\n",
    "# TODO adapt these parameters such that they work for your setup\n",
    "@dataclass\n",
    "class TrainingConfig:\n",
    "    x_size = 28  # the generated x resolution\n",
    "    num_channels = 1  # the number of channels in the generated x\n",
    "    train_batch_size = 5\n",
    "    eval_batch_size = 2  # how many xs to sample during evaluation\n",
    "    num_epochs = 10\n",
    "    learning_rate = 1e-4\n",
    "    output_dir = \"samples\"\n",
    "\n",
    "config = TrainingConfig()\n",
    "\n",
    "device = torch.device(\"cuda\" if torch.cuda.is_available() else \"cpu\")"
   ]
  },
  {
   "cell_type": "code",
   "execution_count": null,
   "metadata": {},
   "outputs": [],
   "source": [
    "import torchvision.transforms as transforms\n",
    "mnist_dataset = torchvision.datasets.MNIST(root='datasets/mnist', train=True, download=True, transform=transforms.ToTensor())\n",
    "train_dataloader = torch.utils.data.DataLoader(mnist_dataset, batch_size=config.train_batch_size, shuffle=True, num_workers=1)"
   ]
  },
  {
   "cell_type": "code",
   "execution_count": null,
   "metadata": {},
   "outputs": [],
   "source": [
    "def get_alpha(t):\n",
    "    return 1 - t"
   ]
  },
  {
   "cell_type": "code",
   "execution_count": null,
   "metadata": {},
   "outputs": [],
   "source": [
    "def forward_diffusion(clean_x, noise, t):\n",
    "    # it takes the clean xs, the noise and the timesteps as input and returns the noisy xs\n",
    "    alpha = get_alpha(t).to(clean_x.device)\n",
    "    for _ in range(len(clean_x.shape) - 1):\n",
    "        alpha = alpha.unsqueeze(-1)\n",
    "\n",
    "    noisy_x = clean_x * torch.sqrt(alpha)  +  noise * torch.sqrt(1 - alpha)\n",
    "    return noisy_x"
   ]
  },
  {
   "cell_type": "code",
   "execution_count": null,
   "metadata": {},
   "outputs": [],
   "source": [
    "def save_and_show(batch, name, nrow=1):\n",
    "    x_grid = torchvision.utils.make_grid(batch, nrow)\n",
    "    torchvision.utils.save_x(x_grid, name)\n",
    "    display(x.open(name))\n",
    "\n",
    "sample_batch = next(iter(train_dataloader))[0]\n",
    "noise = torch.randn_like(sample_batch)\n",
    "noise_levels = []\n",
    "for i in range(11):\n",
    "    current_batch = forward_diffusion(sample_batch, noise, torch.tensor(i / 10))\n",
    "    noise_levels.append(current_batch)\n",
    "\n",
    "save_and_show(torch.cat(noise_levels), f'forward_diffusion.png', nrow=noise_levels[0].shape[0])"
   ]
  },
  {
   "cell_type": "code",
   "execution_count": null,
   "metadata": {},
   "outputs": [],
   "source": [
    "from diffusers import UNet2DModel\n",
    "\n",
    "model = UNet2DModel(\n",
    "    sample_size=config.x_size,  # the target x resolution\n",
    "    in_channels=1,  # the number of input channels, 3 for RGB xs\n",
    "    out_channels=1,  # the number of output channels\n",
    "    layers_per_block=2,  # how many ResNet layers to use per UNet block\n",
    "    block_out_channels=(64, 128, 128),  # the number of output channels for each UNet block\n",
    "    down_block_types=(\n",
    "        \"DownBlock2D\",  # a regular ResNet downsampling block\n",
    "        \"DownBlock2D\",  # a ResNet downsampling block with spatial self-attention\n",
    "        \"DownBlock2D\",  # a regular ResNet downsampling block\n",
    "    ),\n",
    "    up_block_types=(\n",
    "        \"UpBlock2D\",  # a regular ResNet upsampling block\n",
    "        \"UpBlock2D\",  # a ResNet upsampling block with spatial self-attention\n",
    "        \"UpBlock2D\",  # a regular ResNet upsampling block\n",
    "    ),\n",
    ")"
   ]
  },
  {
   "cell_type": "code",
   "execution_count": null,
   "metadata": {},
   "outputs": [],
   "source": [
    "import torch.nn.functional as F\n",
    "import torch\n",
    "\n",
    "optimizer = torch.optim.Adam(model.parameters(), lr=config.learning_rate)\n",
    "\n",
    "def train_loop(config, model, forward_diffusion, optimizer, train_dataloader, device):\n",
    "    model.to(device)\n",
    "    global_step = 0\n",
    "    sample_batch = next(iter(train_dataloader))[0].to(device)\n",
    "    test_noise = torch.randn_like(sample_batch)\n",
    "\n",
    "    # Now you train the model\n",
    "    for epoch in range(config.num_epochs):\n",
    "        progress_bar = tqdm(total=len(train_dataloader))\n",
    "        progress_bar.set_description(f\"Epoch {epoch}\")\n",
    "\n",
    "        for step, batch in enumerate(train_dataloader):\n",
    "            if epoch * len(train_dataloader) + step in [0, 100, 200, 1000, 5000, 10000, 20000]:\n",
    "                noisy_xs_list = []\n",
    "                sample_batch_reconstructed = []\n",
    "                for noise_level in range(11):\n",
    "                    t = torch.tensor(noise_level / 10)\n",
    "                    alpha = get_alpha(t)\n",
    "                    noisy_xs = forward_diffusion(sample_batch, test_noise, t)\n",
    "                    noisy_xs_list.append(noisy_xs)\n",
    "                    noise_pred = model(noisy_xs, t.to(device), return_dict=False)[0].detach()\n",
    "                    sample_batch_reconstructed.append((noisy_xs - torch.sqrt(1 - alpha) * noise_pred) / torch.sqrt(alpha))\n",
    "                    \n",
    "                save_and_show(torch.cat(sample_batch_reconstructed, 0), f'reconstruction_{epoch}_{step}.png', nrow=sample_batch.shape[0])\n",
    "\n",
    "            clean_xs = batch[0].to(device)\n",
    "            # Sample noise to add to the xs\n",
    "            noise = torch.randn(clean_xs.shape).to(device)\n",
    "            bs = clean_xs.shape[0]\n",
    "\n",
    "            # Sample a random timestep for each x\n",
    "            t = torch.abs(1.0 - torch.rand(bs)).to(device)\n",
    "\n",
    "            # Add noise to the clean xs according to the noise magnitude at each timestep\n",
    "            # (this is the forward diffusion process)\n",
    "            noisy_xs = forward_diffusion(clean_xs, noise, t)\n",
    "\n",
    "            # Predict the noise residual\n",
    "            noise_pred = model(noisy_xs, t, return_dict=False)[0]\n",
    "            loss = F.mse_loss(noise_pred, noise)\n",
    "\n",
    "            loss.backward()\n",
    "            optimizer.step()\n",
    "            optimizer.zero_grad()\n",
    "\n",
    "            progress_bar.update(1)\n",
    "            logs = {\"loss\": loss.detach().item(), \"step\": global_step}\n",
    "            progress_bar.set_postfix(**logs)\n",
    "            global_step += 1"
   ]
  },
  {
   "cell_type": "code",
   "execution_count": null,
   "metadata": {},
   "outputs": [],
   "source": [
    "train_loop(config, model, forward_diffusion, optimizer, train_dataloader, device)"
   ]
  },
  {
   "cell_type": "code",
   "execution_count": null,
   "metadata": {},
   "outputs": [],
   "source": [
    "torch.save(model, 'unet.pt')"
   ]
  },
  {
   "cell_type": "code",
   "execution_count": null,
   "metadata": {},
   "outputs": [],
   "source": [
    "model = torch.load('unet.pt', map_location=torch.device('cpu')).to(device)"
   ]
  },
  {
   "cell_type": "code",
   "execution_count": null,
   "metadata": {},
   "outputs": [],
   "source": [
    "def evaluate(config, img_name, reverse_diffusion_process, model, timesteps, device, train_timesteps):\n",
    "    #\n",
    "    noise = torch.randn([config.eval_batch_size, config.num_channels, config.x_size, config.x_size])\n",
    "    xs = reverse_diffusion_process(model, noise, timesteps, device, train_timesteps)\n",
    "    # Make a grid out of the xs\n",
    "    x_grid = torchvision.utils.make_grid(xs) #make_grid(xs, rows=4, cols=4)\n",
    "\n",
    "    # Save the x grid\n",
    "    torchvision.utils.save_x(x_grid, img_name)"
   ]
  },
  {
   "cell_type": "code",
   "execution_count": null,
   "metadata": {},
   "outputs": [],
   "source": [
    "def get_next_x(model, x_current, t_current, t_next):\n",
    "    alpha_current = get_alpha(torch.tensor(t_current)).to(x_current)\n",
    "    alpha_next = get_alpha(torch.tensor(t_next)).to(x_current)\n",
    "    for _ in range(len(x_current.shape) - 1):\n",
    "        alpha_current = alpha_current.unsqueeze(-1)\n",
    "        alpha_next = alpha_next.unsqueeze(-1)\n",
    "        \n",
    "    noise_pred_current = model(x_current, t_current, return_dict=False)[0].detach()\n",
    "    next_image = torch.sqrt(alpha_next) * (x_current - torch.sqrt(1 - alpha_current) * noise_pred_current) / torch.sqrt(alpha_current)\n",
    "    next_image += torch.sqrt(1 - alpha_next) * noise_pred_current\n",
    "    #next_image = alpha_next.sqrt() * (x_current / alpha_current.sqrt() + (((1 - alpha_next) / alpha_next).sqrt() - ((1 - alpha_current) / alpha_current).sqrt()) * noise_pred_current)\n",
    "    return next_image"
   ]
  },
  {
   "cell_type": "code",
   "execution_count": null,
   "metadata": {},
   "outputs": [],
   "source": [
    "def reverse_diffusion_ddim(model, noise, num_timesteps = 100):\n",
    "    noisy_xs_list = []\n",
    "    x_pred_list = []\n",
    "    current_x = torch.clone(noise)\n",
    "    \n",
    "    # Perform reverse diffusion for the specified number of timesteps\n",
    "    progress_bar = tqdm(range(num_timesteps - 1))\n",
    "    for timestep in range(1, num_timesteps)[::-1]:\n",
    "        # Generate the noise for the current timestep\n",
    "        progress_bar.set_description(f\"T {timestep} / {num_timesteps}\")\n",
    "        timesteps = torch.ones([current_x.shape[0]], dtype=torch.int32).to(device) * timestep\n",
    "        if timestep % (num_timesteps / 10) == 0:\n",
    "            noisy_xs_list.append(torch.clone(current_x))\n",
    "            noise_pred = torch.clone(model(current_x, timestep / num_timesteps, return_dict=False)[0].detach())\n",
    "            alpha = get_alpha(torch.tensor(timesteps / num_timesteps)).to(current_x)[:,None,None,None]\n",
    "            x_pred_list.append((current_x - torch.sqrt(1 - alpha) * noise_pred) / torch.sqrt(alpha))\n",
    "            \n",
    "        current_x = get_next_x(model, current_x, timesteps / num_timesteps, (timesteps - 1) / num_timesteps)\n",
    "    \n",
    "    noisy_xs_list.append(torch.clone(current_x))\n",
    "    x_pred_list.append(torch.clone(current_x))\n",
    "    save_and_show(torch.cat(noisy_xs_list, 0), f'z_to_x.png', nrow=current_x.shape[0])\n",
    "    save_and_show(torch.cat(x_pred_list, 0), f'z_to_x2.png', nrow=current_x.shape[0])\n",
    "    # Return the generated xs\n",
    "    return current_x"
   ]
  },
  {
   "cell_type": "code",
   "execution_count": null,
   "metadata": {},
   "outputs": [],
   "source": [
    "def reverse_diffusion_ddim(model, noise, num_timesteps, device = 'cuda'):\n",
    "    # TODO implement the reverse diffusion process with DDPM - 15 points\n",
    "    # it should take noise, the model and the number of timesteps as input and return the generated images\n",
    "    # Generate the initial image from the noise\n",
    "    noisy_images_list = []\n",
    "    current_image = noise.to(device)\n",
    "    \n",
    "    # Perform reverse diffusion for the specified number of timesteps\n",
    "    progress_bar = tqdm(range(num_timesteps - 1))\n",
    "    #for t in range(num_timesteps - 1, -1, -1):\n",
    "    for t in range(1, num_timesteps)[::-1]:\n",
    "        # Generate the noise for the current timestep\n",
    "        progress_bar.set_description(f\"T {t}\")\n",
    "        timesteps = torch.ones([current_image.shape[0]], dtype=torch.int32).to(device) * t\n",
    "        #current_noise = model(current_image, t / num_timesteps, return_dict=False)[0]\n",
    "        current_noise = model(current_image, timesteps / num_timesteps, return_dict=False)[0]\n",
    "\n",
    "        #\n",
    "        #alpha_previous = get_alpha(torch.tensor([(t - 1) / num_timesteps]))[:,None,None,None].to(noise.device)\n",
    "        #alpha = get_alpha(torch.tensor([t / num_timesteps]))[:,None,None,None].to(noise.device)\n",
    "        alpha_previous = get_alpha((timesteps - 1) / num_timesteps)[:,None,None,None].to(noise.device)\n",
    "        alpha = get_alpha(timesteps / num_timesteps)[:,None,None,None].to(noise.device)\n",
    "\n",
    "        #\n",
    "        next_image = torch.sqrt(alpha_previous) * (current_image - torch.sqrt(1 - alpha) * current_noise) / torch.sqrt(alpha)\n",
    "        next_image += torch.sqrt(1 - alpha_previous) * current_noise\n",
    "        current_image = next_image\n",
    "        current_image = current_image.detach()\n",
    "        if t % (num_timesteps / 10) == 0:\n",
    "            noisy_images_list.append(current_image)\n",
    "    \n",
    "    noisy_images_list.append(current_image)    \n",
    "    save_and_show(torch.cat(noisy_images_list, 0), f'ddim_collage.png', nrow=current_image.shape[0])\n",
    "    # Return the generated images\n",
    "    return current_image"
   ]
  },
  {
   "cell_type": "code",
   "execution_count": null,
   "metadata": {},
   "outputs": [],
   "source": [
    "samples = reverse_diffusion_ddim(model, torch.randn_like(sample_batch).to(device), 1000)"
   ]
  },
  {
   "cell_type": "code",
   "execution_count": null,
   "metadata": {},
   "outputs": [],
   "source": [
    "def forward_diffusion_ddim(model, x, num_timesteps = 100):\n",
    "    noisy_xs_list = []\n",
    "    current_z = torch.clone(x)\n",
    "    \n",
    "    # Perform reverse diffusion for the specified number of timesteps\n",
    "    progress_bar = tqdm(range(num_timesteps - 1))\n",
    "    for timestep in range(1, num_timesteps):\n",
    "        # Generate the noise for the current timestep\n",
    "        progress_bar.set_description(f\"T {timestep} / {num_timesteps}\")\n",
    "        current_z = get_next_x(model, current_z, (timestep - 1) / num_timesteps, timestep / num_timesteps)\n",
    "        if timestep % (num_timesteps / 10) == 0:\n",
    "            noisy_xs_list.append(current_z)\n",
    "    \n",
    "    noisy_xs_list.append(current_z)\n",
    "    save_and_show(torch.cat(noisy_xs_list, 0), f'x_to_z.png', nrow=current_z.shape[0])\n",
    "    # Return the generated z\n",
    "    return current_z"
   ]
  },
  {
   "cell_type": "code",
   "execution_count": null,
   "metadata": {},
   "outputs": [],
   "source": [
    "# sanity check inversion capabilities\n",
    "reconstruction = reverse_diffusion_ddim(model, forward_diffusion_ddim(model, sample_batch.to(device), 1000), 1000)\n",
    "print(torch.mean(torch.abs(reconstruction.cpu() - sample_batch)))"
   ]
  },
  {
   "cell_type": "code",
   "execution_count": null,
   "metadata": {},
   "outputs": [],
   "source": [
    "def reverse_diffusion_ddim_conditioned(model, noise, downstream_network, num_timesteps = 100):\n",
    "    noisy_xs_list = []\n",
    "    current_x = torch.clone(noise)\n",
    "    \n",
    "    # Perform reverse diffusion for the specified number of timesteps\n",
    "    progress_bar = tqdm(range(num_timesteps - 1))\n",
    "    for timestep in range(1, num_timesteps)[::-1]:\n",
    "        # Generate the noise for the current timestep\n",
    "        progress_bar.set_description(f\"T {timestep} / {num_timesteps}\")\n",
    "        current_x = get_next_x(model, current_x, timestep / num_timesteps, (timestep - 1) / num_timesteps)\n",
    "        if timestep % (num_timesteps / 10) == 0:\n",
    "            noisy_xs_list.append(current_x)\n",
    "    \n",
    "    save_and_show(torch.cat(noisy_xs_list, 0), f'z_to_x.png', nrow=current_x.shape[0])\n",
    "    # Return the generated xs\n",
    "    return current_x"
   ]
  }
 ],
 "metadata": {
  "kernelspec": {
   "display_name": "local_peal_env",
   "language": "python",
   "name": "python3"
  },
  "language_info": {
   "codemirror_mode": {
    "name": "ipython",
    "version": 3
   },
   "file_extension": ".py",
   "mimetype": "text/x-python",
   "name": "python",
   "nbconvert_exporter": "python",
   "pygments_lexer": "ipython3",
   "version": "3.9.15"
  },
  "orig_nbformat": 4
 },
 "nbformat": 4,
 "nbformat_minor": 2
}
