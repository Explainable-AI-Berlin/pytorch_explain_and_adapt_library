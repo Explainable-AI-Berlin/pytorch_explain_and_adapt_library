{
 "cells": [
  {
   "cell_type": "code",
   "execution_count": 1,
   "metadata": {},
   "outputs": [],
   "source": [
    "from dataclasses import dataclass\n",
    "from tqdm.auto import tqdm\n",
    "from PIL import Image\n",
    "import torch\n",
    "import torchvision\n",
    "\n",
    "# TODO adapt these parameters such that they work for your setup\n",
    "@dataclass\n",
    "class TrainingConfig:\n",
    "    image_size = 28  # the generated image resolution\n",
    "    num_channels = 1  # the number of channels in the generated image\n",
    "    train_batch_size = 5\n",
    "    eval_batch_size = 2  # how many images to sample during evaluation\n",
    "    num_epochs = 10\n",
    "    learning_rate = 1e-4\n",
    "    output_dir = \"samples\"\n",
    "\n",
    "config = TrainingConfig()\n",
    "\n",
    "num_train_timesteps=1000\n",
    "device = torch.device(\"cuda\" if torch.cuda.is_available() else \"cpu\")"
   ]
  },
  {
   "cell_type": "code",
   "execution_count": 2,
   "metadata": {},
   "outputs": [],
   "source": [
    "import torchvision.transforms as transforms\n",
    "mnist_dataset = torchvision.datasets.MNIST(root='mnist_data', train=True, download=True, transform=transforms.ToTensor())\n",
    "train_dataloader = torch.utils.data.DataLoader(mnist_dataset, batch_size=config.train_batch_size, shuffle=True, num_workers=1)"
   ]
  },
  {
   "cell_type": "code",
   "execution_count": 3,
   "metadata": {},
   "outputs": [],
   "source": [
    "def get_alpha(t):\n",
    "    return 1 - t"
   ]
  },
  {
   "cell_type": "code",
   "execution_count": 7,
   "metadata": {},
   "outputs": [],
   "source": [
    "def forward_diffusion(clean_x, noise, t):\n",
    "    # it takes the clean images, the noise and the timesteps as input and returns the noisy images\n",
    "    #alpha = get_alpha(t)[:, None, None, None].to(clean_x.device)\n",
    "    alpha = get_alpha(t).to(clean_x.device)\n",
    "    return torch.sqrt(alpha) * clean_x + torch.sqrt(1 - alpha) * noise"
   ]
  },
  {
   "cell_type": "code",
   "execution_count": 9,
   "metadata": {},
   "outputs": [],
   "source": [
    "def save_and_show(batch, name, nrow=1):\n",
    "    image_grid = torchvision.utils.make_grid(batch, nrow)\n",
    "    torchvision.utils.save_image(image_grid, name)\n",
    "    Image.open(name)\n",
    "\n",
    "sample_batch = next(iter(train_dataloader))[0]\n",
    "noise = torch.randn_like(sample_batch)\n",
    "save_and_show(sample_batch, 'original.png')\n",
    "for i in range(num_train_timesteps + 1):\n",
    "    if i % 100 == 0:\n",
    "        current_batch = forward_diffusion(sample_batch, noise, torch.tensor(i / num_train_timesteps))\n",
    "        save_and_show(current_batch, f'forward_diffusion_{i}.png')"
   ]
  },
  {
   "cell_type": "code",
   "execution_count": 10,
   "metadata": {},
   "outputs": [],
   "source": [
    "from diffusers import UNet2DModel\n",
    "\n",
    "model = UNet2DModel(\n",
    "    sample_size=config.image_size,  # the target image resolution\n",
    "    in_channels=1,  # the number of input channels, 3 for RGB images\n",
    "    out_channels=1,  # the number of output channels\n",
    "    layers_per_block=2,  # how many ResNet layers to use per UNet block\n",
    "    block_out_channels=(64, 128, 128),  # the number of output channels for each UNet block\n",
    "    down_block_types=(\n",
    "        \"DownBlock2D\",  # a regular ResNet downsampling block\n",
    "        \"DownBlock2D\",  # a ResNet downsampling block with spatial self-attention\n",
    "        \"DownBlock2D\",  # a regular ResNet downsampling block\n",
    "    ),\n",
    "    up_block_types=(\n",
    "        \"UpBlock2D\",  # a regular ResNet upsampling block\n",
    "        \"UpBlock2D\",  # a ResNet upsampling block with spatial self-attention\n",
    "        \"UpBlock2D\",  # a regular ResNet upsampling block\n",
    "    ),\n",
    ")"
   ]
  },
  {
   "cell_type": "code",
   "execution_count": null,
   "metadata": {},
   "outputs": [],
   "source": [
    "import torch.nn.functional as F\n",
    "import torch\n",
    "\n",
    "optimizer = torch.optim.Adam(model.parameters(), lr=config.learning_rate)\n",
    "\n",
    "def train_loop(config, model, forward_diffusion, optimizer, train_dataloader, device, num_train_timesteps):\n",
    "    model.to(device)\n",
    "    global_step = 0\n",
    "    sample_batch = next(iter(train_dataloader))[0].to(device)\n",
    "    save_and_show(sample_batch, f'reconstruction_original.png')\n",
    "    test_noise = torch.randn_like(sample_batch)\n",
    "\n",
    "    # Now you train the model\n",
    "    for epoch in range(config.num_epochs):\n",
    "        progress_bar = tqdm(total=len(train_dataloader))\n",
    "        progress_bar.set_description(f\"Epoch {epoch}\")\n",
    "\n",
    "        for step, batch in enumerate(train_dataloader):\n",
    "            if epoch * len(train_dataloader) + step in [0, 100, 200, 1000, 5000, 10000, 20000]:\n",
    "                noisy_images_list = []\n",
    "                sample_batch_reconstructed = []\n",
    "                for noise_level in range(11):\n",
    "                    t = noise_level / 10 * torch.ones([sample_batch.shape[0]], dtype=torch.int32)\n",
    "                    alpha = get_alpha(t, num_train_timesteps)[:, None, None, None].to(device)\n",
    "                    noisy_images = forward_diffusion(sample_batch, test_noise, t, num_train_timesteps)\n",
    "                    noisy_images_list.append(noisy_images)\n",
    "                    noise_pred = model(noisy_images, t.to(device), return_dict=False)[0].detach()\n",
    "                    sample_batch_reconstructed.append((noisy_images - torch.sqrt(1 - alpha) * noise_pred) / torch.sqrt(alpha))\n",
    "                    \n",
    "                save_and_show(torch.cat(noisy_images_list, 0), f'noisy_images_{epoch}_{step}.png', nrow=sample_batch.shape[0])\n",
    "                save_and_show(torch.cat(sample_batch_reconstructed, 0), f'reconstruction_{epoch}_{step}.png', nrow=sample_batch.shape[0])\n",
    "\n",
    "            clean_images = batch[0].to(device)\n",
    "            # Sample noise to add to the images\n",
    "            noise = torch.randn(clean_images.shape).to(device)\n",
    "            bs = clean_images.shape[0]\n",
    "\n",
    "            # Sample a random timestep for each image\n",
    "            t = torch.randint(\n",
    "                1, num_train_timesteps, (bs,), device=clean_images.device\n",
    "            ).to(device) / num_train_timesteps\n",
    "\n",
    "            # Add noise to the clean images according to the noise magnitude at each timestep\n",
    "            # (this is the forward diffusion process)\n",
    "            noisy_images = forward_diffusion(clean_images, noise, t, num_train_timesteps)\n",
    "\n",
    "            # Predict the noise residual\n",
    "            noise_pred = model(noisy_images, t, return_dict=False)[0]\n",
    "            loss = F.mse_loss(noise_pred, noise)\n",
    "\n",
    "            loss.backward()\n",
    "            optimizer.step()\n",
    "            optimizer.zero_grad()\n",
    "\n",
    "            progress_bar.update(1)\n",
    "            logs = {\"loss\": loss.detach().item(), \"step\": global_step}\n",
    "            progress_bar.set_postfix(**logs)\n",
    "            global_step += 1"
   ]
  },
  {
   "cell_type": "code",
   "execution_count": null,
   "metadata": {},
   "outputs": [],
   "source": [
    "train_loop(config, model, forward_diffusion, optimizer, train_dataloader, device, num_train_timesteps)"
   ]
  },
  {
   "cell_type": "code",
   "execution_count": null,
   "metadata": {},
   "outputs": [],
   "source": [
    "torch.save(model, 'unet.pt')"
   ]
  },
  {
   "cell_type": "code",
   "execution_count": null,
   "metadata": {},
   "outputs": [],
   "source": [
    "model = torch.load('unet.pt', map_location=torch.device('cpu')).to(device)"
   ]
  },
  {
   "cell_type": "code",
   "execution_count": null,
   "metadata": {},
   "outputs": [],
   "source": [
    "def evaluate(config, img_name, reverse_diffusion_process, model, timesteps, device, train_timesteps):\n",
    "    #\n",
    "    noise = torch.randn([config.eval_batch_size, config.num_channels, config.image_size, config.image_size])\n",
    "    images = reverse_diffusion_process(model, noise, timesteps, device, train_timesteps)\n",
    "    # Make a grid out of the images\n",
    "    image_grid = torchvision.utils.make_grid(images) #make_grid(images, rows=4, cols=4)\n",
    "\n",
    "    # Save the image grid\n",
    "    torchvision.utils.save_image(image_grid, img_name)"
   ]
  },
  {
   "cell_type": "code",
   "execution_count": null,
   "metadata": {},
   "outputs": [],
   "source": [
    "def get_next_x(model, x_current, t_current, t_next):\n",
    "    alpha_current = get_alpha(t_current)[:,None,None,None]\n",
    "    alpha_next = get_alpha(t_next)[:,None,None,None]\n",
    "    noise_pred_current = model(x_current, t_current, return_dict=False)[0].detach()\n",
    "    return alpha_next.sqrt() * (x_current / alpha_current.sqrt() + (((1 - alpha_next) / alpha_next).sqrt() - ((1 - alpha_current) / alpha_current).sqrt()) * noise_pred_current)"
   ]
  },
  {
   "cell_type": "code",
   "execution_count": null,
   "metadata": {},
   "outputs": [],
   "source": [
    "def reverse_diffusion_ddim(model, noise, num_timesteps, device):\n",
    "    noisy_images_list = []\n",
    "    current_image = noise.to(device)\n",
    "    \n",
    "    # Perform reverse diffusion for the specified number of timesteps\n",
    "    progress_bar = tqdm(range(num_timesteps - 1))\n",
    "    #for t in range(num_timesteps - 1, -1, -1):\n",
    "    for timestep in range(1, num_timesteps)[::-1]:\n",
    "        # Generate the noise for the current timestep\n",
    "        progress_bar.set_description(f\"T {t}\")\n",
    "        current_image = get_next_x(model, current_image, timestep / num_timesteps, (timestep - 1) / num_timesteps)\n",
    "        if timestep % (num_timesteps / 10) == 0:\n",
    "            noisy_images_list.append(current_image)\n",
    "    \n",
    "    save_and_show(torch.cat(noisy_images_list, 0), f'ddim_collage.png', nrow=current_image.shape[0])\n",
    "    # Return the generated images\n",
    "    return current_image"
   ]
  }
 ],
 "metadata": {
  "kernelspec": {
   "display_name": "local_peal_env",
   "language": "python",
   "name": "python3"
  },
  "language_info": {
   "codemirror_mode": {
    "name": "ipython",
    "version": 3
   },
   "file_extension": ".py",
   "mimetype": "text/x-python",
   "name": "python",
   "nbconvert_exporter": "python",
   "pygments_lexer": "ipython3",
   "version": "3.9.15"
  },
  "orig_nbformat": 4
 },
 "nbformat": 4,
 "nbformat_minor": 2
}
